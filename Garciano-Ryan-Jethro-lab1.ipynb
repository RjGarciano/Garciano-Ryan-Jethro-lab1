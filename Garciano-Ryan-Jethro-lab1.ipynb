{
 "cells": [
  {
   "cell_type": "markdown",
   "metadata": {},
   "source": [
    "192183 \n",
    "GARCIANO\n",
    "2 BS ITE"
   ]
  },
  {
   "cell_type": "code",
   "execution_count": 7,
   "metadata": {
    "scrolled": false
   },
   "outputs": [
    {
     "name": "stdout",
     "output_type": "stream",
     "text": [
      "Enter the amount in US dollars: 400\n",
      "400.0 dollars is 20000.0 pesos\n"
     ]
    }
   ],
   "source": [
    "dollar = float(input(\"Enter the amount in US dollars: \"))\n",
    "dollar_to_pesos = dollar*50\n",
    "print(str(dollar) + \" dollars is \" + str(dollar_to_pesos) + \" pesos\")"
   ]
  },
  {
   "cell_type": "code",
   "execution_count": 21,
   "metadata": {},
   "outputs": [
    {
     "name": "stdout",
     "output_type": "stream",
     "text": [
      " 100\n",
      " 20\n",
      "120\n",
      "-80\n",
      "5\n",
      "0\n"
     ]
    }
   ],
   "source": [
    "first_integer = float(input(\" \"))\n",
    "second_integer = float(input(\" \"))\n",
    "sum_integer = first_integer+second_integer\n",
    "print(int(sum_integer))\n",
    "\n",
    "difference = second_integer-first_integer\n",
    "print(int(difference))\n",
    "\n",
    "quotient = first_integer/second_integer\n",
    "print(int(quotient))\n",
    "\n",
    "quotient_remainder = first_integer%second_integer\n",
    "print(int(quotient_remainder))"
   ]
  },
  {
   "cell_type": "code",
   "execution_count": 28,
   "metadata": {},
   "outputs": [
    {
     "name": "stdout",
     "output_type": "stream",
     "text": [
      "Enter kg: 70\n",
      "Enter cm: 170\n",
      "BMI: 24.221453287197235\n"
     ]
    }
   ],
   "source": [
    "weight = float(input(\"Enter kg: \"))\n",
    "height = float(input(\"Enter cm: \"))\n",
    "\n",
    "meter_height = height*0.01\n",
    "meter_squared_height = meter_height*meter_height\n",
    "\n",
    "compute_bmi = weight/meter_squared_height\n",
    "print(\"BMI: \" + str(compute_bmi))"
   ]
  }
 ],
 "metadata": {
  "kernelspec": {
   "display_name": "Python 3",
   "language": "python",
   "name": "python3"
  },
  "language_info": {
   "codemirror_mode": {
    "name": "ipython",
    "version": 3
   },
   "file_extension": ".py",
   "mimetype": "text/x-python",
   "name": "python",
   "nbconvert_exporter": "python",
   "pygments_lexer": "ipython3",
   "version": "3.8.5"
  }
 },
 "nbformat": 4,
 "nbformat_minor": 4
}
